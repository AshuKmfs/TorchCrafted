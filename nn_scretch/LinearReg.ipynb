{
 "cells": [
  {
   "cell_type": "code",
   "execution_count": 1,
   "id": "4a2c9229",
   "metadata": {},
   "outputs": [],
   "source": [
    "import numpy as np\n",
    "import pandas as pd\n",
    "import torch\n",
    "import torch.nn as nn\n",
    "import seaborn as sns"
   ]
  },
  {
   "cell_type": "code",
   "execution_count": 2,
   "id": "aa0c5d4f",
   "metadata": {},
   "outputs": [],
   "source": [
    "data = 'https://gist.githubusercontent.com/noamross/e5d3e859aa0c794be10b/raw/b999fb4425b54c63cab088c0ce2c0d6ce961a563/cars.csv'"
   ]
  },
  {
   "cell_type": "code",
   "execution_count": 3,
   "id": "1286a4cc",
   "metadata": {},
   "outputs": [
    {
     "data": {
      "text/html": [
       "<div>\n",
       "<style scoped>\n",
       "    .dataframe tbody tr th:only-of-type {\n",
       "        vertical-align: middle;\n",
       "    }\n",
       "\n",
       "    .dataframe tbody tr th {\n",
       "        vertical-align: top;\n",
       "    }\n",
       "\n",
       "    .dataframe thead th {\n",
       "        text-align: right;\n",
       "    }\n",
       "</style>\n",
       "<table border=\"1\" class=\"dataframe\">\n",
       "  <thead>\n",
       "    <tr style=\"text-align: right;\">\n",
       "      <th></th>\n",
       "      <th>Unnamed: 0</th>\n",
       "      <th>mpg</th>\n",
       "      <th>cyl</th>\n",
       "      <th>disp</th>\n",
       "      <th>hp</th>\n",
       "      <th>drat</th>\n",
       "      <th>wt</th>\n",
       "      <th>qsec</th>\n",
       "      <th>vs</th>\n",
       "      <th>am</th>\n",
       "      <th>gear</th>\n",
       "      <th>carb</th>\n",
       "    </tr>\n",
       "  </thead>\n",
       "  <tbody>\n",
       "    <tr>\n",
       "      <th>0</th>\n",
       "      <td>Mazda RX4</td>\n",
       "      <td>21.0</td>\n",
       "      <td>6</td>\n",
       "      <td>160.0</td>\n",
       "      <td>110</td>\n",
       "      <td>3.90</td>\n",
       "      <td>2.620</td>\n",
       "      <td>16.46</td>\n",
       "      <td>0</td>\n",
       "      <td>1</td>\n",
       "      <td>4</td>\n",
       "      <td>4</td>\n",
       "    </tr>\n",
       "    <tr>\n",
       "      <th>1</th>\n",
       "      <td>Mazda RX4 Wag</td>\n",
       "      <td>21.0</td>\n",
       "      <td>6</td>\n",
       "      <td>160.0</td>\n",
       "      <td>110</td>\n",
       "      <td>3.90</td>\n",
       "      <td>2.875</td>\n",
       "      <td>17.02</td>\n",
       "      <td>0</td>\n",
       "      <td>1</td>\n",
       "      <td>4</td>\n",
       "      <td>4</td>\n",
       "    </tr>\n",
       "    <tr>\n",
       "      <th>2</th>\n",
       "      <td>Datsun 710</td>\n",
       "      <td>22.8</td>\n",
       "      <td>4</td>\n",
       "      <td>108.0</td>\n",
       "      <td>93</td>\n",
       "      <td>3.85</td>\n",
       "      <td>2.320</td>\n",
       "      <td>18.61</td>\n",
       "      <td>1</td>\n",
       "      <td>1</td>\n",
       "      <td>4</td>\n",
       "      <td>1</td>\n",
       "    </tr>\n",
       "    <tr>\n",
       "      <th>3</th>\n",
       "      <td>Hornet 4 Drive</td>\n",
       "      <td>21.4</td>\n",
       "      <td>6</td>\n",
       "      <td>258.0</td>\n",
       "      <td>110</td>\n",
       "      <td>3.08</td>\n",
       "      <td>3.215</td>\n",
       "      <td>19.44</td>\n",
       "      <td>1</td>\n",
       "      <td>0</td>\n",
       "      <td>3</td>\n",
       "      <td>1</td>\n",
       "    </tr>\n",
       "    <tr>\n",
       "      <th>4</th>\n",
       "      <td>Hornet Sportabout</td>\n",
       "      <td>18.7</td>\n",
       "      <td>8</td>\n",
       "      <td>360.0</td>\n",
       "      <td>175</td>\n",
       "      <td>3.15</td>\n",
       "      <td>3.440</td>\n",
       "      <td>17.02</td>\n",
       "      <td>0</td>\n",
       "      <td>0</td>\n",
       "      <td>3</td>\n",
       "      <td>2</td>\n",
       "    </tr>\n",
       "  </tbody>\n",
       "</table>\n",
       "</div>"
      ],
      "text/plain": [
       "          Unnamed: 0   mpg  cyl   disp   hp  drat     wt   qsec  vs  am  gear  \\\n",
       "0          Mazda RX4  21.0    6  160.0  110  3.90  2.620  16.46   0   1     4   \n",
       "1      Mazda RX4 Wag  21.0    6  160.0  110  3.90  2.875  17.02   0   1     4   \n",
       "2         Datsun 710  22.8    4  108.0   93  3.85  2.320  18.61   1   1     4   \n",
       "3     Hornet 4 Drive  21.4    6  258.0  110  3.08  3.215  19.44   1   0     3   \n",
       "4  Hornet Sportabout  18.7    8  360.0  175  3.15  3.440  17.02   0   0     3   \n",
       "\n",
       "   carb  \n",
       "0     4  \n",
       "1     4  \n",
       "2     1  \n",
       "3     1  \n",
       "4     2  "
      ]
     },
     "execution_count": 3,
     "metadata": {},
     "output_type": "execute_result"
    }
   ],
   "source": [
    "cars = pd.read_csv(data)\n",
    "cars.head()"
   ]
  },
  {
   "cell_type": "code",
   "execution_count": 4,
   "id": "5210c275",
   "metadata": {},
   "outputs": [
    {
     "data": {
      "text/plain": [
       "<AxesSubplot: xlabel='wt', ylabel='mpg'>"
      ]
     },
     "execution_count": 4,
     "metadata": {},
     "output_type": "execute_result"
    },
    {
     "data": {
      "image/png": "[encoded data removed]",
      "text/plain": [
       "<Figure size 640x480 with 1 Axes>"
      ]
     },
     "metadata": {},
     "output_type": "display_data"
    }
   ],
   "source": [
    "sns.scatterplot(x='wt', y='mpg', data=cars)"
   ]
  },
  {
   "cell_type": "code",
   "execution_count": 5,
   "id": "d509350c",
   "metadata": {},
   "outputs": [
    {
     "data": {
      "text/plain": [
       "<AxesSubplot: xlabel='wt', ylabel='mpg'>"
      ]
     },
     "execution_count": 5,
     "metadata": {},
     "output_type": "execute_result"
    },
    {
     "data": {
      "image/png": "[encoded data removed]",
      "text/plain": [
       "<Figure size 640x480 with 1 Axes>"
      ]
     },
     "metadata": {},
     "output_type": "display_data"
    }
   ],
   "source": [
    "sns.regplot(x='wt', y='mpg', data=cars)"
   ]
  },
  {
   "cell_type": "code",
   "execution_count": 6,
   "id": "8f6d9870",
   "metadata": {},
   "outputs": [
    {
     "name": "stdout",
     "output_type": "stream",
     "text": [
      "[2.62, 2.875, 2.32, 3.215, 3.44, 3.46, 3.57, 3.19, 3.15, 3.44, 3.44, 4.07, 3.73, 3.78, 5.25, 5.424, 5.345, 2.2, 1.615, 1.835, 2.465, 3.52, 3.435, 3.84, 3.845, 1.935, 2.14, 1.513, 3.17, 2.77, 3.57, 2.78]\n",
      "[[2.62 ]\n",
      " [2.875]\n",
      " [2.32 ]\n",
      " [3.215]\n",
      " [3.44 ]\n",
      " [3.46 ]\n",
      " [3.57 ]\n",
      " [3.19 ]\n",
      " [3.15 ]\n",
      " [3.44 ]\n",
      " [3.44 ]\n",
      " [4.07 ]\n",
      " [3.73 ]\n",
      " [3.78 ]\n",
      " [5.25 ]\n",
      " [5.424]\n",
      " [5.345]\n",
      " [2.2  ]\n",
      " [1.615]\n",
      " [1.835]\n",
      " [2.465]\n",
      " [3.52 ]\n",
      " [3.435]\n",
      " [3.84 ]\n",
      " [3.845]\n",
      " [1.935]\n",
      " [2.14 ]\n",
      " [1.513]\n",
      " [3.17 ]\n",
      " [2.77 ]\n",
      " [3.57 ]\n",
      " [2.78 ]]\n"
     ]
    }
   ],
   "source": [
    "#%% convert data to tensor\n",
    "X_list = cars.wt.values.tolist()\n",
    "print(X_list)\n",
    "X_np = np.array(X_list,dtype=np.float32).reshape(-1,1)\n",
    "print(X_np)"
   ]
  },
  {
   "cell_type": "markdown",
   "id": "eb24a284",
   "metadata": {},
   "source": [
    "[21.0, 21.0, 22.8, ...] - This is a one-dimensional list.\n",
    "\n",
    "[[21. ], [21. ], [22.8], ...] - This is a two-dimensional array, essentially a column vector."
   ]
  },
  {
   "cell_type": "code",
   "execution_count": 7,
   "id": "efd70423",
   "metadata": {},
   "outputs": [
    {
     "name": "stdout",
     "output_type": "stream",
     "text": [
      "[21.0, 21.0, 22.8, 21.4, 18.7, 18.1, 14.3, 24.4, 22.8, 19.2, 17.8, 16.4, 17.3, 15.2, 10.4, 10.4, 14.7, 32.4, 30.4, 33.9, 21.5, 15.5, 15.2, 13.3, 19.2, 27.3, 26.0, 30.4, 15.8, 19.7, 15.0, 21.4]\n",
      "[[21. ]\n",
      " [21. ]\n",
      " [22.8]\n",
      " [21.4]\n",
      " [18.7]\n",
      " [18.1]\n",
      " [14.3]\n",
      " [24.4]\n",
      " [22.8]\n",
      " [19.2]\n",
      " [17.8]\n",
      " [16.4]\n",
      " [17.3]\n",
      " [15.2]\n",
      " [10.4]\n",
      " [10.4]\n",
      " [14.7]\n",
      " [32.4]\n",
      " [30.4]\n",
      " [33.9]\n",
      " [21.5]\n",
      " [15.5]\n",
      " [15.2]\n",
      " [13.3]\n",
      " [19.2]\n",
      " [27.3]\n",
      " [26. ]\n",
      " [30.4]\n",
      " [15.8]\n",
      " [19.7]\n",
      " [15. ]\n",
      " [21.4]]\n"
     ]
    }
   ],
   "source": [
    "y_list = cars.mpg.values.tolist()\n",
    "print(y_list)\n",
    "y_np = np.array(y_list, dtype=np.float32).reshape(-1,1)\n",
    "print(y_np)"
   ]
  },
  {
   "cell_type": "code",
   "execution_count": 8,
   "id": "ef1d6a4f",
   "metadata": {},
   "outputs": [
    {
     "name": "stdout",
     "output_type": "stream",
     "text": [
      "tensor([[2.6200],\n",
      "        [2.8750],\n",
      "        [2.3200],\n",
      "        [3.2150],\n",
      "        [3.4400],\n",
      "        [3.4600],\n",
      "        [3.5700],\n",
      "        [3.1900],\n",
      "        [3.1500],\n",
      "        [3.4400],\n",
      "        [3.4400],\n",
      "        [4.0700],\n",
      "        [3.7300],\n",
      "        [3.7800],\n",
      "        [5.2500],\n",
      "        [5.4240],\n",
      "        [5.3450],\n",
      "        [2.2000],\n",
      "        [1.6150],\n",
      "        [1.8350],\n",
      "        [2.4650],\n",
      "        [3.5200],\n",
      "        [3.4350],\n",
      "        [3.8400],\n",
      "        [3.8450],\n",
      "        [1.9350],\n",
      "        [2.1400],\n",
      "        [1.5130],\n",
      "        [3.1700],\n",
      "        [2.7700],\n",
      "        [3.5700],\n",
      "        [2.7800]])\n"
     ]
    }
   ],
   "source": [
    "X = torch.from_numpy(X_np)\n",
    "print(X)"
   ]
  },
  {
   "cell_type": "code",
   "execution_count": 9,
   "id": "9a4ff23c",
   "metadata": {},
   "outputs": [
    {
     "name": "stdout",
     "output_type": "stream",
     "text": [
      "tensor([21.0000, 21.0000, 22.8000, 21.4000, 18.7000, 18.1000, 14.3000, 24.4000,\n",
      "        22.8000, 19.2000, 17.8000, 16.4000, 17.3000, 15.2000, 10.4000, 10.4000,\n",
      "        14.7000, 32.4000, 30.4000, 33.9000, 21.5000, 15.5000, 15.2000, 13.3000,\n",
      "        19.2000, 27.3000, 26.0000, 30.4000, 15.8000, 19.7000, 15.0000, 21.4000])\n"
     ]
    }
   ],
   "source": [
    "y = torch.tensor(y_list)\n",
    "print(y)"
   ]
  },
  {
   "cell_type": "code",
   "execution_count": 10,
   "id": "e0c234d3",
   "metadata": {},
   "outputs": [
    {
     "name": "stdout",
     "output_type": "stream",
     "text": [
      "tensor([0.8279], dtype=torch.float64, requires_grad=True)\n",
      "tensor([0.0763], dtype=torch.float64, requires_grad=True)\n"
     ]
    }
   ],
   "source": [
    "w = torch.rand(1,requires_grad=True,dtype=torch.float64)\n",
    "print(w)\n",
    "b = torch.rand(1,requires_grad=True,dtype=torch.float64)\n",
    "print(b)"
   ]
  },
  {
   "cell_type": "code",
   "execution_count": 11,
   "id": "bd7f5c2d",
   "metadata": {},
   "outputs": [
    {
     "name": "stdout",
     "output_type": "stream",
     "text": [
      "tensor(147.4078, dtype=torch.float64)\n",
      "tensor(78.4680, dtype=torch.float64)\n",
      "tensor(54.0948, dtype=torch.float64)\n",
      "tensor(44.3068, dtype=torch.float64)\n",
      "tensor(39.9636, dtype=torch.float64)\n",
      "tensor(37.8428, dtype=torch.float64)\n",
      "tensor(36.6770, dtype=torch.float64)\n",
      "tensor(35.9334, dtype=torch.float64)\n",
      "tensor(35.3799, dtype=torch.float64)\n",
      "tensor(34.9139, dtype=torch.float64)\n",
      "tensor(34.4893, dtype=torch.float64)\n",
      "tensor(34.0857, dtype=torch.float64)\n",
      "tensor(33.6937, dtype=torch.float64)\n",
      "tensor(33.3091, dtype=torch.float64)\n",
      "tensor(32.9301, dtype=torch.float64)\n",
      "tensor(32.5558, dtype=torch.float64)\n",
      "tensor(32.1858, dtype=torch.float64)\n",
      "tensor(31.8197, dtype=torch.float64)\n",
      "tensor(31.4576, dtype=torch.float64)\n",
      "tensor(31.0994, dtype=torch.float64)\n",
      "tensor(30.7450, dtype=torch.float64)\n",
      "tensor(30.3943, dtype=torch.float64)\n",
      "tensor(30.0473, dtype=torch.float64)\n",
      "tensor(29.7040, dtype=torch.float64)\n",
      "tensor(29.3644, dtype=torch.float64)\n",
      "tensor(29.0283, dtype=torch.float64)\n",
      "tensor(28.6959, dtype=torch.float64)\n",
      "tensor(28.3669, dtype=torch.float64)\n",
      "tensor(28.0414, dtype=torch.float64)\n",
      "tensor(27.7194, dtype=torch.float64)\n",
      "tensor(27.4008, dtype=torch.float64)\n",
      "tensor(27.0856, dtype=torch.float64)\n",
      "tensor(26.7738, dtype=torch.float64)\n",
      "tensor(26.4653, dtype=torch.float64)\n",
      "tensor(26.1600, dtype=torch.float64)\n",
      "tensor(25.8580, dtype=torch.float64)\n",
      "tensor(25.5593, dtype=torch.float64)\n",
      "tensor(25.2637, dtype=torch.float64)\n",
      "tensor(24.9712, dtype=torch.float64)\n",
      "tensor(24.6819, dtype=torch.float64)\n",
      "tensor(24.3957, dtype=torch.float64)\n",
      "tensor(24.1125, dtype=torch.float64)\n",
      "tensor(23.8324, dtype=torch.float64)\n",
      "tensor(23.5552, dtype=torch.float64)\n",
      "tensor(23.2810, dtype=torch.float64)\n",
      "tensor(23.0098, dtype=torch.float64)\n",
      "tensor(22.7415, dtype=torch.float64)\n",
      "tensor(22.4760, dtype=torch.float64)\n",
      "tensor(22.2134, dtype=torch.float64)\n",
      "tensor(21.9536, dtype=torch.float64)\n",
      "tensor(21.6966, dtype=torch.float64)\n",
      "tensor(21.4423, dtype=torch.float64)\n",
      "tensor(21.1908, dtype=torch.float64)\n",
      "tensor(20.9420, dtype=torch.float64)\n",
      "tensor(20.6958, dtype=torch.float64)\n",
      "tensor(20.4523, dtype=torch.float64)\n",
      "tensor(20.2115, dtype=torch.float64)\n",
      "tensor(19.9732, dtype=torch.float64)\n",
      "tensor(19.7375, dtype=torch.float64)\n",
      "tensor(19.5043, dtype=torch.float64)\n",
      "tensor(19.2736, dtype=torch.float64)\n",
      "tensor(19.0455, dtype=torch.float64)\n",
      "tensor(18.8198, dtype=torch.float64)\n",
      "tensor(18.5965, dtype=torch.float64)\n",
      "tensor(18.3757, dtype=torch.float64)\n",
      "tensor(18.1572, dtype=torch.float64)\n",
      "tensor(17.9412, dtype=torch.float64)\n",
      "tensor(17.7274, dtype=torch.float64)\n",
      "tensor(17.5160, dtype=torch.float64)\n",
      "tensor(17.3069, dtype=torch.float64)\n",
      "tensor(17.1000, dtype=torch.float64)\n",
      "tensor(16.8954, dtype=torch.float64)\n",
      "tensor(16.6930, dtype=torch.float64)\n",
      "tensor(16.4928, dtype=torch.float64)\n",
      "tensor(16.2948, dtype=torch.float64)\n",
      "tensor(16.0989, dtype=torch.float64)\n",
      "tensor(15.9052, dtype=torch.float64)\n",
      "tensor(15.7136, dtype=torch.float64)\n",
      "tensor(15.5241, dtype=torch.float64)\n",
      "tensor(15.3366, dtype=torch.float64)\n",
      "tensor(15.1512, dtype=torch.float64)\n",
      "tensor(14.9679, dtype=torch.float64)\n",
      "tensor(14.7865, dtype=torch.float64)\n",
      "tensor(14.6071, dtype=torch.float64)\n",
      "tensor(14.4297, dtype=torch.float64)\n",
      "tensor(14.2542, dtype=torch.float64)\n",
      "tensor(14.0806, dtype=torch.float64)\n",
      "tensor(13.9090, dtype=torch.float64)\n",
      "tensor(13.7392, dtype=torch.float64)\n",
      "tensor(13.5713, dtype=torch.float64)\n",
      "tensor(13.4053, dtype=torch.float64)\n",
      "tensor(13.2410, dtype=torch.float64)\n",
      "tensor(13.0786, dtype=torch.float64)\n",
      "tensor(12.9180, dtype=torch.float64)\n",
      "tensor(12.7591, dtype=torch.float64)\n",
      "tensor(12.6020, dtype=torch.float64)\n",
      "tensor(12.4467, dtype=torch.float64)\n",
      "tensor(12.2930, dtype=torch.float64)\n",
      "tensor(12.1411, dtype=torch.float64)\n",
      "tensor(11.9908, dtype=torch.float64)\n",
      "Weight: 1.0224994564917618,Bias: 15.155126442630353\n"
     ]
    }
   ],
   "source": [
    "num_epochs = 100\n",
    "learning_rate = 1e-3\n",
    "for epoch in range(num_epochs):\n",
    "    for i in range(len(X)):\n",
    "        #forward pass\n",
    "        y_pred = X[i]*w + b\n",
    "        #calculate loss\n",
    "        loss_tensor = torch.pow(y_pred-y[i],2)\n",
    "        #backward pass\n",
    "        loss_tensor.backward()\n",
    "        #extract losses\n",
    "        loss_value = loss_tensor.data[0]\n",
    "        #update weights and biases\n",
    "        with torch.no_grad(): #used to temporarily disable gradient calculation\n",
    "            w -= w.grad*learning_rate\n",
    "            b -= b.grad*learning_rate\n",
    "            w.grad.zero_() #used to reset the gradients of all the parameters of a model to zero\n",
    "            b.grad.zero_()\n",
    "    print(loss_value)\n",
    "\n",
    "#%% check results\n",
    "print(f\"Weight: {w.item()},Bias: {b.item()}\")"
   ]
  },
  {
   "cell_type": "code",
   "execution_count": 12,
   "id": "53406e65",
   "metadata": {},
   "outputs": [],
   "source": [
    "y_pred = (torch.tensor(X_list)*w + b).detach().numpy()"
   ]
  },
  {
   "cell_type": "code",
   "execution_count": 13,
   "id": "35819421",
   "metadata": {},
   "outputs": [
    {
     "data": {
      "text/plain": [
       "<AxesSubplot: >"
      ]
     },
     "execution_count": 13,
     "metadata": {},
     "output_type": "execute_result"
    },
    {
     "data": {
      "image/png": "[encoded data removed]",
      "text/plain": [
       "<Figure size 640x480 with 1 Axes>"
      ]
     },
     "metadata": {},
     "output_type": "display_data"
    }
   ],
   "source": [
    "sns.scatterplot(x=X_list, y=y_list)\n",
    "sns.lineplot(x=X_list, y=y_pred, color='red')"
   ]
  },
  {
   "cell_type": "code",
   "execution_count": 14,
   "id": "9b4f0691",
   "metadata": {},
   "outputs": [
    {
     "name": "stdout",
     "output_type": "stream",
     "text": [
      "Slope: [-5.3444715], Bias: 37.285125732421875\n"
     ]
    }
   ],
   "source": [
    "# %% (Statistical) Linear Regression\n",
    "from sklearn.linear_model import LinearRegression\n",
    "reg = LinearRegression().fit(X_np, y_list)\n",
    "print(f\"Slope: {reg.coef_}, Bias: {reg.intercept_}\")"
   ]
  },
  {
   "cell_type": "markdown",
   "id": "2f686efc",
   "metadata": {},
   "source": [
    "# Model Class"
   ]
  },
  {
   "cell_type": "code",
   "execution_count": 15,
   "id": "727e0d68",
   "metadata": {},
   "outputs": [],
   "source": [
    "# convert data to tensor\n",
    "X_list = cars.wt.values\n",
    "X_np = np.array(X_list,dtype=np.float32).reshape(-1,1)\n",
    "y_list = cars.mpg.values\n",
    "y_np = np.array(y_list,dtype=np.float32).reshape(-1,1)\n",
    "X = torch.from_numpy(X_np)\n",
    "y_true = torch.from_numpy(y_np)"
   ]
  },
  {
   "cell_type": "code",
   "execution_count": 17,
   "id": "aa35fc18",
   "metadata": {},
   "outputs": [],
   "source": [
    "class LinearRegression(nn.Module):\n",
    "    def __init__(self,input_size,output_size):\n",
    "        super(LinearRegression,self).__init__() #super() function is used to call the constructor of the parent class, which in this case is \"nn.Module\"\n",
    "        self.linear = nn.Linear(input_size,output_size)\n",
    "    def forward(self,x):\n",
    "        return self.linear(x)"
   ]
  },
  {
   "cell_type": "code",
   "execution_count": 18,
   "id": "c7d30d2d",
   "metadata": {},
   "outputs": [],
   "source": [
    "input_dim = 1\n",
    "output_dim = 1\n",
    "model = LinearRegression(input_size=input_dim,output_size=output_dim)"
   ]
  },
  {
   "cell_type": "code",
   "execution_count": 19,
   "id": "b6406941",
   "metadata": {},
   "outputs": [],
   "source": [
    "loss_fun = nn.MSELoss()"
   ]
  },
  {
   "cell_type": "code",
   "execution_count": 20,
   "id": "bf68dcb2",
   "metadata": {},
   "outputs": [],
   "source": [
    "LR = 0.02\n",
    "optimizer = torch.optim.SGD(model.parameters(),lr=LR)"
   ]
  },
  {
   "cell_type": "code",
   "execution_count": 22,
   "id": "c6ceb170",
   "metadata": {},
   "outputs": [
    {
     "name": "stdout",
     "output_type": "stream",
     "text": [
      "Epoch 0, Loss: 184.71112060546875\n",
      "Epoch 100, Loss: 69.14693450927734\n",
      "Epoch 200, Loss: 41.57597351074219\n",
      "Epoch 300, Loss: 26.580135345458984\n",
      "Epoch 400, Loss: 18.423892974853516\n",
      "Epoch 500, Loss: 13.987700462341309\n",
      "Epoch 600, Loss: 11.57486343383789\n",
      "Epoch 700, Loss: 10.262532234191895\n",
      "Epoch 800, Loss: 9.548748016357422\n",
      "Epoch 900, Loss: 9.160527229309082\n"
     ]
    }
   ],
   "source": [
    "# perform training\n",
    "losses, slope, bias = [],[],[]\n",
    "num_epochs = 1000\n",
    "for epoch in range(num_epochs):\n",
    "    # set gradients to zero\n",
    "    optimizer.zero_grad()\n",
    "    # forward pass\n",
    "    y_pred = model(X) # internally calls the forward method of your model. However, it's not just a direct call to forward; it also performs some additional PyTorch-specific behind-the-scenes operations\n",
    "    # calculate loss\n",
    "    loss = loss_fun(y_pred,y_true)\n",
    "    loss.backward()\n",
    "    # update parameters\n",
    "    optimizer.step() # responsible for updating the parameters (weights and biases) of the model based on the gradients calculated during the backward pass\n",
    "    # get parameters\n",
    "    for name, param in model.named_parameters():#PyTorch function that returns an iterator over all parameters (both weights and biases) in the model, along with their names.\n",
    "        if param.requires_grad:\n",
    "            if name == 'linear.weight':\n",
    "                slope.append(param.data.numpy()[0][0])#weight is a 2D tensor\n",
    "            if name == 'linear.bias':\n",
    "                bias.append(param.data.numpy()[0])#bias is a 1D tensor\n",
    "    # store loss\n",
    "    losses.append(float(loss.data))\n",
    "    # print loss\n",
    "    if (epoch % 100 == 0):\n",
    "        print(f\"Epoch {epoch}, Loss: {loss.data}\")"
   ]
  },
  {
   "cell_type": "code",
   "execution_count": 24,
   "id": "c15dbbaf",
   "metadata": {},
   "outputs": [
    {
     "data": {
      "text/plain": [
       "<AxesSubplot: >"
      ]
     },
     "execution_count": 24,
     "metadata": {},
     "output_type": "execute_result"
    },
    {
     "data": {
      "image/png": "[encoded data removed]",
      "text/plain": [
       "<Figure size 640x480 with 1 Axes>"
      ]
     },
     "metadata": {},
     "output_type": "display_data"
    }
   ],
   "source": [
    "sns.scatterplot(x=range(num_epochs), y=losses)"
   ]
  },
  {
   "cell_type": "code",
   "execution_count": 25,
   "id": "d95bef6f",
   "metadata": {},
   "outputs": [
    {
     "data": {
      "text/plain": [
       "<AxesSubplot: >"
      ]
     },
     "execution_count": 25,
     "metadata": {},
     "output_type": "execute_result"
    },
    {
     "data": {
      "image/png": "[encoded data removed]",
      "text/plain": [
       "<Figure size 640x480 with 1 Axes>"
      ]
     },
     "metadata": {},
     "output_type": "display_data"
    }
   ],
   "source": [
    "sns.scatterplot(x=range(num_epochs), y=bias)"
   ]
  },
  {
   "cell_type": "code",
   "execution_count": 26,
   "id": "ba4d8ef1",
   "metadata": {},
   "outputs": [
    {
     "data": {
      "text/plain": [
       "<AxesSubplot: >"
      ]
     },
     "execution_count": 26,
     "metadata": {},
     "output_type": "execute_result"
    },
    {
     "data": {
      "image/png": "[encoded data removed]",
      "text/plain": [
       "<Figure size 640x480 with 1 Axes>"
      ]
     },
     "metadata": {},
     "output_type": "display_data"
    }
   ],
   "source": [
    "sns.scatterplot(x=range(num_epochs), y=slope)"
   ]
  },
  {
   "cell_type": "code",
   "execution_count": 27,
   "id": "7cae432f",
   "metadata": {},
   "outputs": [],
   "source": [
    "y_pred = model(X).data.numpy().reshape(-1)"
   ]
  },
  {
   "cell_type": "code",
   "execution_count": 28,
   "id": "1168f35c",
   "metadata": {},
   "outputs": [
    {
     "name": "stdout",
     "output_type": "stream",
     "text": [
      "[22.849567  21.614845  24.302177  19.968552  18.879091  18.782251\n",
      " 18.249626  20.089603  20.283283  18.879091  18.879091  15.828606\n",
      " 17.4749    17.232798  10.114998   9.272484   9.6550045 24.883223\n",
      " 27.715816  26.650568  23.600082  18.49173   18.903303  16.942276\n",
      " 16.918066  26.166363  25.173744  28.209705  20.186443  22.12326\n",
      " 18.249626  22.07484  ]\n"
     ]
    }
   ],
   "source": [
    "print(y_pred)"
   ]
  },
  {
   "cell_type": "code",
   "execution_count": 29,
   "id": "179ec0ef",
   "metadata": {},
   "outputs": [
    {
     "data": {
      "text/plain": [
       "<AxesSubplot: >"
      ]
     },
     "execution_count": 29,
     "metadata": {},
     "output_type": "execute_result"
    },
    {
     "data": {
      "image/png": "[encoded data removed]",
      "text/plain": [
       "<Figure size 640x480 with 1 Axes>"
      ]
     },
     "metadata": {},
     "output_type": "display_data"
    }
   ],
   "source": [
    "sns.scatterplot(x=X_list, y=y_list)\n",
    "sns.lineplot(x=X_list, y=y_pred, color='red')"
   ]
  },
  {
   "cell_type": "code",
   "execution_count": null,
   "id": "750c496c",
   "metadata": {},
   "outputs": [],
   "source": []
  }
 ],
 "metadata": {
  "kernelspec": {
   "display_name": "Python 3 (ipykernel)",
   "language": "python",
   "name": "python3"
  },
  "language_info": {
   "codemirror_mode": {
    "name": "ipython",
    "version": 3
   },
   "file_extension": ".py",
   "mimetype": "text/x-python",
   "name": "python",
   "nbconvert_exporter": "python",
   "pygments_lexer": "ipython3",
   "version": "3.9.12"
  }
 },
 "nbformat": 4,
 "nbformat_minor": 5
}
